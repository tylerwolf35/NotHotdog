{
  "nbformat": 4,
  "nbformat_minor": 0,
  "metadata": {
    "colab": {
      "name": "NotHotdog.ipynb",
      "provenance": [],
      "toc_visible": true,
      "authorship_tag": "ABX9TyOM/m+whVhiAVpgM8j01687",
      "include_colab_link": true
    },
    "kernelspec": {
      "name": "python3",
      "display_name": "Python 3"
    }
  },
  "cells": [
    {
      "cell_type": "markdown",
      "metadata": {
        "id": "view-in-github",
        "colab_type": "text"
      },
      "source": [
        "<a href=\"https://colab.research.google.com/github/tylerwolf35/NotHotdog/blob/master/NotHotdog-colab.ipynb\" target=\"_parent\"><img src=\"https://colab.research.google.com/assets/colab-badge.svg\" alt=\"Open In Colab\"/></a>"
      ]
    },
    {
      "cell_type": "markdown",
      "metadata": {
        "id": "luyECMakHO2i",
        "colab_type": "text"
      },
      "source": [
        "# A recreation of Jian-Yang's [Not Hotdog](https://www.youtube.com/watch?v=ACmydtFDTGs) application from the HBO television series Silicon Valley."
      ]
    },
    {
      "cell_type": "markdown",
      "metadata": {
        "id": "ZMAMpAUZM9Er",
        "colab_type": "text"
      },
      "source": [
        "Run this first"
      ]
    },
    {
      "cell_type": "code",
      "metadata": {
        "id": "YkvwIhFcHkUQ",
        "colab_type": "code",
        "colab": {}
      },
      "source": [
        "from PIL import Image\n",
        "from tensorflow.keras.preprocessing.image import load_img\n",
        "from tensorflow.keras.preprocessing.image import img_to_array\n",
        "from tensorflow.keras.applications.vgg16 import preprocess_input\n",
        "from tensorflow.keras.applications.vgg16 import decode_predictions\n",
        "from tensorflow.keras.applications.vgg16 import VGG16\n",
        "\n",
        "\n",
        "def predict(image1):\n",
        "    model = VGG16()\n",
        "    image = load_img(image1, target_size=(224, 224))\n",
        "    # pixels -> numpy array\n",
        "    image = img_to_array(image)\n",
        "    # reshape data\n",
        "    image = image.reshape((1, image.shape[0], image.shape[1], image.shape[2]))\n",
        "    # prepare for VGG model\n",
        "    image = preprocess_input(image)\n",
        "    # predict\n",
        "    yhat = model.predict(image)\n",
        "    # convert\n",
        "    label = decode_predictions(yhat)\n",
        "    # retrieve result (hotdog or not hotdog)\n",
        "    label = label[0][0]\n",
        "    return label\n"
      ],
      "execution_count": 0,
      "outputs": []
    },
    {
      "cell_type": "markdown",
      "metadata": {
        "id": "hUTiOVBSM2S1",
        "colab_type": "text"
      },
      "source": [
        "Upload image"
      ]
    },
    {
      "cell_type": "code",
      "metadata": {
        "id": "Dn7ZoiByMRYL",
        "colab_type": "code",
        "colab": {}
      },
      "source": [
        "from google.colab import files\n",
        "uploaded = files.upload()"
      ],
      "execution_count": 0,
      "outputs": []
    },
    {
      "cell_type": "markdown",
      "metadata": {
        "id": "N3eSTfJcLl6d",
        "colab_type": "text"
      },
      "source": [
        "Replace with the image you have uploaded."
      ]
    },
    {
      "cell_type": "code",
      "metadata": {
        "id": "fVXS5K8QIv3U",
        "colab_type": "code",
        "colab": {}
      },
      "source": [
        "file = 'placeholder.jpg' # replace placeholder.jpg with the image you have uploaded\n",
        "\n",
        "if file is not None:\n",
        "    image = Image.open(file)\n",
        "    display(image)\n",
        "    print(\"\")\n",
        "    print(\"Evaluating...\")\n",
        "    label = predict(file)\n",
        "    if label[1] == \"hotdog\":\n",
        "        print(\"✅ Hotdog\")\n",
        "    else:\n",
        "        print(\"❌ Not hotdog\")\n"
      ],
      "execution_count": 0,
      "outputs": []
    }
  ]
}