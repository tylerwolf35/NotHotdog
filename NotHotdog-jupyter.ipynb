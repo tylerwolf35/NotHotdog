{
 "cells": [
  {
   "cell_type": "markdown",
   "metadata": {
    "colab_type": "text",
    "id": "luyECMakHO2i"
   },
   "source": [
    "# A recreation of Jian-Yang's [Not Hotdog](https://www.youtube.com/watch?v=ACmydtFDTGs) application from the HBO television series Silicon Valley."
   ]
  },
  {
   "cell_type": "markdown",
   "metadata": {
    "colab_type": "text",
    "id": "ZMAMpAUZM9Er"
   },
   "source": [
    "Run this first"
   ]
  },
  {
   "cell_type": "code",
   "execution_count": null,
   "metadata": {
    "colab": {},
    "colab_type": "code",
    "id": "YkvwIhFcHkUQ"
   },
   "outputs": [],
   "source": [
    "from PIL import Image\n",
    "from tensorflow.keras.preprocessing.image import load_img\n",
    "from tensorflow.keras.preprocessing.image import img_to_array\n",
    "from tensorflow.keras.applications.vgg16 import preprocess_input\n",
    "from tensorflow.keras.applications.vgg16 import decode_predictions\n",
    "from tensorflow.keras.applications.vgg16 import VGG16\n",
    "\n",
    "\n",
    "def predict(image1):\n",
    "    model = VGG16()\n",
    "    image = load_img(image1, target_size=(224, 224))\n",
    "    # pixels -> numpy array\n",
    "    image = img_to_array(image)\n",
    "    # reshape data\n",
    "    image = image.reshape((1, image.shape[0], image.shape[1], image.shape[2]))\n",
    "    # prepare for VGG model\n",
    "    image = preprocess_input(image)\n",
    "    # predict\n",
    "    yhat = model.predict(image)\n",
    "    # convert\n",
    "    label = decode_predictions(yhat)\n",
    "    # retrieve result (hotdog or not hotdog)\n",
    "    label = label[0][0]\n",
    "    return label\n"
   ]
  },
  {
   "cell_type": "markdown",
   "metadata": {
    "colab_type": "text",
    "id": "N3eSTfJcLl6d"
   },
   "source": [
    "Upload an image"
   ]
  },
  {
   "cell_type": "code",
   "execution_count": null,
   "metadata": {
    "colab": {},
    "colab_type": "code",
    "id": "fVXS5K8QIv3U"
   },
   "outputs": [],
   "source": [
    "file = 'image.jpg' # replace image.jpg with the path to the image you would like to use\n",
    "\n",
    "if file is not None:\n",
    "    image = Image.open(file)\n",
    "    display(image)\n",
    "    print(\"\")\n",
    "    print(\"Evaluating...\")\n",
    "    label = predict(file)\n",
    "    if label[1] == \"hotdog\":\n",
    "        print(\"✅ Hotdog\")\n",
    "    else:\n",
    "        print(\"❌ Not hotdog\")\n"
   ]
  }
 ],
 "metadata": {
  "colab": {
   "authorship_tag": "ABX9TyPwe3u/UKHoZKVY0Y9+OPKc",
   "include_colab_link": true,
   "name": "NotHotdog.ipynb",
   "provenance": [],
   "toc_visible": true
  },
  "kernelspec": {
   "display_name": "Python 3",
   "language": "python",
   "name": "python3"
  },
  "language_info": {
   "codemirror_mode": {
    "name": "ipython",
    "version": 3
   },
   "file_extension": ".py",
   "mimetype": "text/x-python",
   "name": "python",
   "nbconvert_exporter": "python",
   "pygments_lexer": "ipython3",
   "version": "3.8.2"
  }
 },
 "nbformat": 4,
 "nbformat_minor": 1
}
